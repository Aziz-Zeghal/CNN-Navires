{
 "cells": [
  {
   "cell_type": "markdown",
   "metadata": {},
   "source": [
    "# 🎓 Library"
   ]
  },
  {
   "cell_type": "code",
   "execution_count": 11,
   "metadata": {
    "_cell_guid": "b1076dfc-b9ad-4769-8c92-a6c4dae69d19",
    "_uuid": "8f2839f25d086af736a60e9eeb907d3b93b6e0e5",
    "execution": {
     "iopub.execute_input": "2025-05-20T14:32:59.654526Z",
     "iopub.status.busy": "2025-05-20T14:32:59.654184Z",
     "iopub.status.idle": "2025-05-20T14:33:00.006476Z",
     "shell.execute_reply": "2025-05-20T14:33:00.005488Z",
     "shell.execute_reply.started": "2025-05-20T14:32:59.654500Z"
    },
    "trusted": true
   },
   "outputs": [
    {
     "name": "stdout",
     "output_type": "stream",
     "text": [
      "GPU available: [PhysicalDevice(name='/physical_device:GPU:0', device_type='GPU')]\n",
      "/home/tofeha/ING2/ING2/IREN/CNN-Navires/data/navires-2025/ships.tgz\n"
     ]
    },
    {
     "data": {
      "text/plain": [
       "'/home/tofeha/ING2/ING2/IREN/CNN-Navires/data/navires-2025'"
      ]
     },
     "execution_count": 11,
     "metadata": {},
     "output_type": "execute_result"
    }
   ],
   "source": [
    "# Misc\n",
    "import numpy as np\n",
    "import pandas as pd\n",
    "import os\n",
    "\n",
    "# Model\n",
    "import tensorflow as tf\n",
    "import keras\n",
    "from keras.api.models import Model, Sequential\n",
    "from keras.api.layers import Dense, Input, Dropout, Conv2D\n",
    "from keras.api.optimizers import Adam\n",
    "from keras.api.losses import SparseCategoricalCrossentropy\n",
    "from keras.api.metrics import SparseCategoricalAccuracy\n",
    "\n",
    "# Deactivate XLA compilation\n",
    "tf.config.optimizer.set_jit(False)\n",
    "# TensorFlow, check if GPU is available\n",
    "if tf.config.list_physical_devices('GPU'):\n",
    "    print(f\"GPU available: {tf.config.list_physical_devices('GPU')}\")\n",
    "\n",
    "\n",
    "# Either on Kaggle or local\n",
    "RAW_DATA = \"/kaggle/input\" if os.path.exists(\"/kaggle/input\") else f\"{os.getcwd()}/data\"\n",
    "RAW_DATA = os.path.join(RAW_DATA, \"navires-2025\")\n",
    "\n",
    "DATA_PATH = os.getcwd()\n",
    "\n",
    "for dirname, _, filenames in os.walk(RAW_DATA):\n",
    "    for filename in filenames:\n",
    "        print(os.path.join(dirname, filename))\n",
    "\n",
    "RAW_DATA"
   ]
  },
  {
   "cell_type": "code",
   "execution_count": null,
   "metadata": {
    "execution": {
     "iopub.execute_input": "2025-05-20T14:33:05.609782Z",
     "iopub.status.busy": "2025-05-20T14:33:05.609364Z",
     "iopub.status.idle": "2025-05-20T14:33:08.688126Z",
     "shell.execute_reply": "2025-05-20T14:33:08.686850Z",
     "shell.execute_reply.started": "2025-05-20T14:33:05.609757Z"
    },
    "trusted": true
   },
   "outputs": [],
   "source": [
    "!tar xzf {RAW_DATA}/ships.tgz\n",
    "!mv ships32 data"
   ]
  },
  {
   "cell_type": "markdown",
   "metadata": {},
   "source": [
    "## Step 1: Preprocessing"
   ]
  },
  {
   "cell_type": "markdown",
   "metadata": {},
   "source": [
    "## Step 2: Model"
   ]
  },
  {
   "cell_type": "markdown",
   "metadata": {},
   "source": [
    "## Step 3: Training & Evaluation"
   ]
  },
  {
   "cell_type": "markdown",
   "metadata": {},
   "source": [
    "# Lire les images\n",
    "\n",
    "cf https://keras.io/api/data_loading/image/ et https://www.tensorflow.org/api_docs/python/tf/keras/utils/image_dataset_from_directory"
   ]
  },
  {
   "cell_type": "markdown",
   "metadata": {},
   "source": [
    "# Results"
   ]
  },
  {
   "cell_type": "code",
   "execution_count": null,
   "metadata": {
    "trusted": true
   },
   "outputs": [],
   "source": [
    "X_test = np.load('/kaggle/input/navires-2025/ships_competition.npz', allow_pickle=True)['X']\n",
    "X_test = X_test.astype('float32') / 255"
   ]
  },
  {
   "cell_type": "code",
   "execution_count": null,
   "metadata": {
    "trusted": true
   },
   "outputs": [],
   "source": [
    "res = model.predict(X_test).argmax(axis=1)\n",
    "df = pd.DataFrame({\"Category\":res})\n",
    "df.to_csv(\"reco_nav.csv\", index_label=\"Id\")"
   ]
  },
  {
   "cell_type": "code",
   "execution_count": null,
   "metadata": {
    "trusted": true
   },
   "outputs": [],
   "source": [
    "!head reco_nav.csv"
   ]
  },
  {
   "cell_type": "code",
   "execution_count": null,
   "metadata": {
    "trusted": true
   },
   "outputs": [],
   "source": [
    "import os\n",
    "os.chdir(r'/kaggle/working')\n",
    "from IPython.display import FileLink\n",
    "FileLink(r'reco_nav.csv')"
   ]
  }
 ],
 "metadata": {
  "kaggle": {
   "accelerator": "none",
   "dataSources": [
    {
     "databundleVersionId": 11655307,
     "sourceId": 97843,
     "sourceType": "competition"
    }
   ],
   "dockerImageVersionId": 31040,
   "isGpuEnabled": false,
   "isInternetEnabled": true,
   "language": "python",
   "sourceType": "notebook"
  },
  "kernelspec": {
   "display_name": "IREN",
   "language": "python",
   "name": "python3"
  },
  "language_info": {
   "codemirror_mode": {
    "name": "ipython",
    "version": 3
   },
   "file_extension": ".py",
   "mimetype": "text/x-python",
   "name": "python",
   "nbconvert_exporter": "python",
   "pygments_lexer": "ipython3",
   "version": "3.12.10"
  }
 },
 "nbformat": 4,
 "nbformat_minor": 4
}
